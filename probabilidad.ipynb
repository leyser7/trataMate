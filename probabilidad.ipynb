{
  "cells": [
    {
      "metadata": {},
      "cell_type": "markdown",
      "source": "### Taller 2"
    },
    {
      "metadata": {},
      "cell_type": "markdown",
      "source": "2. Suponga que una moneda justa es lanzada n veces, donde n es un numero par, y x representa\nel numero de caras. Determine el numero esperado de caras y la probabilidad que el numero\nde caras es exactamente x =\nn\n2\n, asumiendo n = 2, 4, 8, 16, 32, 64, 128. Explique los resultados."
    },
    {
      "metadata": {
        "trusted": true
      },
      "cell_type": "code",
      "source": "def trianguloPascal(n):\n \n    # creamos una lista que contendra los dos primeras lineas\n    lista = [[1],[1,1]]\n \n    # bucle que se generara tantas veces como lineas vayamos a tener\n    for i in range(1,n):\n \n        # inicializamos la linea\n        linea = [1]\n \n        # bucle por cada uno de los valores de la anterior linea\n        for j in range(0,len(lista[i])-1):\n \n            # añadimos a la lista los nuevos valores\n            # sumamos el valor de la lista anterior con el siguinte\n            linea.extend([ lista[i][j] + lista[i][j+1] ])\n \n        # añadimos el ultimo valor a la nueva linea\n        # siempre es un 1 igual que el primero\n        linea += [1]\n \n        # añadimos la linea a la lista\n        lista.append(linea)\n \n    #devolvemos la lista ya creada\n    return lista\n# ref: https://www.lawebdelprogramador.com/codigo/Python/2617-Triangulo-de-Pascal.html",
      "execution_count": 7,
      "outputs": []
    },
    {
      "metadata": {
        "trusted": true
      },
      "cell_type": "code",
      "source": "def expected_value(probabilitys):\n    E = 0\n    for i in range(len(probabilitys)):\n        E += i * probabilitys[i]\n    return E",
      "execution_count": 8,
      "outputs": []
    },
    {
      "metadata": {
        "trusted": true,
        "scrolled": true
      },
      "cell_type": "code",
      "source": "n_vector = [2, 4, 8, 16, 32, 64, 128]\npascal_n = trianguloPascal(n_vector[len(n_vector) -1])\nE = []\nfor n in n_vector:\n    probabilitys = []\n    cases_posibility = 2**n\n    for i in range(n + 1):\n        probability = pascal_n[n][i]/cases_posibility\n        if(i == n / 2):\n            print(\"x=%s la probabilidad es %s\"%(i,probability))\n        probabilitys.append(probability)\n        #print(\"%s  | %s\"%(i,probability))\n    E.append(expected_value(probabilitys))\nfor i in range(len(n_vector)):\n    print(\"el valor esperado de caras con n=%s es: %s \"%(n_vector[i],E[i]))",
      "execution_count": 9,
      "outputs": [
        {
          "output_type": "stream",
          "text": "x=1 la probabilidad es 0.5\nx=2 la probabilidad es 0.375\nx=4 la probabilidad es 0.2734375\nx=8 la probabilidad es 0.196380615234375\nx=16 la probabilidad es 0.13994993409141898\nx=32 la probabilidad es 0.09934675374796689\nx=64 la probabilidad es 0.07038609217001514\nel valor esperado de caras con n=2 es: 1.0 \nel valor esperado de caras con n=4 es: 2.0 \nel valor esperado de caras con n=8 es: 4.0 \nel valor esperado de caras con n=16 es: 8.0 \nel valor esperado de caras con n=32 es: 16.0 \nel valor esperado de caras con n=64 es: 31.999999999999996 \nel valor esperado de caras con n=128 es: 63.99999999999997 \n",
          "name": "stdout"
        }
      ]
    },
    {
      "metadata": {},
      "cell_type": "markdown",
      "source": "n/2 es el valor esperado de las caras si n es par"
    },
    {
      "metadata": {},
      "cell_type": "markdown",
      "source": "3. Suponga que el numero de errores en un programa de computador tiene una distribuci´on de\nPoisson con par´ametro λ = 5.\n(a) Determine la probabilidad que el programa de computador no tenga errores.\n(b) La probabilidad que el n´umero de errores son 5 o m´as.\n"
    },
    {
      "metadata": {
        "trusted": true
      },
      "cell_type": "code",
      "source": "import math\ndef poison_function(lambda_poisson, k_poisson):\n    return ((lambda_poisson**k_poisson)*math.e**(-lambda_poisson))/(math.factorial(k_poisson))",
      "execution_count": 10,
      "outputs": []
    },
    {
      "metadata": {
        "trusted": true
      },
      "cell_type": "code",
      "source": "k=0\nl_poisson = 5\nprint(poison_function(l_poisson,k))",
      "execution_count": 11,
      "outputs": [
        {
          "output_type": "stream",
          "text": "0.006737946999085469\n",
          "name": "stdout"
        }
      ]
    },
    {
      "metadata": {},
      "cell_type": "markdown",
      "source": "La probabilidad de que no ocurran errores es de 0.67 %"
    },
    {
      "metadata": {
        "trusted": true
      },
      "cell_type": "code",
      "source": "k_poisson= [0, 1, 2, 3, 4]\nl_poisson = 5\nprobability = 0\nfor k in k_poisson:\n    probability += poison_function(l_poisson,k)\nprobality_5 = 1 -probability\nprint(probality_5)",
      "execution_count": 12,
      "outputs": [
        {
          "output_type": "stream",
          "text": "0.5595067149347875\n",
          "name": "stdout"
        }
      ]
    },
    {
      "metadata": {},
      "cell_type": "markdown",
      "source": "b) La probabilidad que el n´umero de errores son 5 o mas es : 0.5595067149347875"
    }
  ],
  "metadata": {
    "kernelspec": {
      "name": "python36",
      "display_name": "Python 3.6",
      "language": "python"
    },
    "language_info": {
      "mimetype": "text/x-python",
      "nbconvert_exporter": "python",
      "name": "python",
      "pygments_lexer": "ipython3",
      "version": "3.6.6",
      "file_extension": ".py",
      "codemirror_mode": {
        "version": 3,
        "name": "ipython"
      }
    }
  },
  "nbformat": 4,
  "nbformat_minor": 2
}