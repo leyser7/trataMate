{
  "cells": [
    {
      "metadata": {
        "collapsed": true
      },
      "cell_type": "markdown",
      "source": "# 2 Computacional"
    },
    {
      "metadata": {
        "trusted": true
      },
      "cell_type": "code",
      "source": "import numpy as np\nfrom numpy.linalg import inv, pinv\nfrom scipy.linalg import lu",
      "execution_count": 1,
      "outputs": []
    },
    {
      "metadata": {},
      "cell_type": "markdown",
      "source": "## 1. Crear una funcion que realice el proceso de ortogonalizacion de Gram-Schmidt."
    },
    {
      "metadata": {
        "trusted": true
      },
      "cell_type": "code",
      "source": "def gram_schmidt(X):\n    O = np.zeros(X.shape)\n    for i in range(X.shape[1]):\n        # orthogonalization\n        vector = X[:, i]\n        space = O[:, :i]\n        projection = vector @ space\n        vector = vector - np.sum(projection * space, axis=1)\n        # normalization\n        norm = np.sqrt(vector @ vector)\n        vector /= abs(norm) < 1e-8 and 1 or norm\n        \n        O[:, i] = vector\n    return O",
      "execution_count": 2,
      "outputs": []
    },
    {
      "metadata": {},
      "cell_type": "markdown",
      "source": "### verifique que el problema 1.1 las columnas son linealmente independientes"
    },
    {
      "metadata": {
        "trusted": true
      },
      "cell_type": "code",
      "source": "exercise_1 = np.array([[6.0, -3, 2], [1, 2, 5.0], [2, -8, -1]])\nb = np.array([0., 0., 0.])\nx = np.linalg.solve(exercise_1, b)",
      "execution_count": 3,
      "outputs": []
    },
    {
      "metadata": {},
      "cell_type": "markdown",
      "source": "Como el resultado del vector es 0 entonces las columnas son linealmente indenpendientes."
    },
    {
      "metadata": {
        "trusted": true
      },
      "cell_type": "code",
      "source": "print(x)",
      "execution_count": 4,
      "outputs": [
        {
          "output_type": "stream",
          "text": "[ 0. -0.  0.]\n",
          "name": "stdout"
        }
      ]
    },
    {
      "metadata": {},
      "cell_type": "markdown",
      "source": "## 2. Realizar el problema 1.2 en el PC usando el proceso de ortogonalizacion de Gram-Schmidt programado en el punto anterior."
    },
    {
      "metadata": {
        "trusted": true,
        "scrolled": true
      },
      "cell_type": "code",
      "source": "A = np.array([[4.0, 0.0, 1.0], [1, -5.0, 1.0], [6, 1.0, 0.0], [1, -1, -5]])\nb = np.array([[9], [0] ,[0] ,[0]])\nQ = gram_schmidt(A)\nprint(\"Q: \",np.round(Q, 3))\nR = Q.T @ A\nprint(\"R:\", np.round(R, 3))",
      "execution_count": 5,
      "outputs": [
        {
          "output_type": "stream",
          "text": "Q:  [[ 0.544  0.     0.192]\n [ 0.136 -0.962  0.192]\n [ 0.816  0.192 -0.   ]\n [ 0.136 -0.192 -0.962]]\nR: [[ 7.348  0.     0.   ]\n [ 0.     5.196  0.   ]\n [ 0.    -0.     5.196]]\n",
          "name": "stdout"
        }
      ]
    },
    {
      "metadata": {
        "trusted": true
      },
      "cell_type": "code",
      "source": "side_rigth = Q.T@b\nx = np.linalg.solve(R, side_rigth)\nprint(np.round(x, 3))",
      "execution_count": 6,
      "outputs": [
        {
          "output_type": "stream",
          "text": "[[ 0.667]\n [-0.   ]\n [ 0.333]]\n",
          "name": "stdout"
        }
      ]
    },
    {
      "metadata": {},
      "cell_type": "markdown",
      "source": "Adicionalmente encontrar la solucion usando x = (A<sup>T</sup>A)<sup>-1</sup>A<sup>T</sup>b."
    },
    {
      "metadata": {
        "trusted": true
      },
      "cell_type": "code",
      "source": "x = inv((A.T@A))@A.T@b\nprint(x)",
      "execution_count": 7,
      "outputs": [
        {
          "output_type": "stream",
          "text": "[[0.66666667]\n [0.        ]\n [0.33333333]]\n",
          "name": "stdout"
        }
      ]
    },
    {
      "metadata": {},
      "cell_type": "markdown",
      "source": "Comparar si la matriz (A<sup>T</sup>A)<sup>-1</sup>A<sup>T</sup> corresponde a la pseudo inversa, tipicamente denotada como pinv en las librerias de algebra lineal"
    },
    {
      "metadata": {
        "trusted": true
      },
      "cell_type": "code",
      "source": "matrix = inv((A.T@A))@A.T\nmatrix_pseudo = pinv(A)\nmatrix = matrix.round(3)\nmatrix_pseudo = matrix_pseudo.round(3)\nprint(\"matrix:\", matrix)\nprint(\"pseudo inversa:\", matrix_pseudo)\nif(np.alltrue(matrix == matrix_pseudo)):\n    print (\"Son iguales\")\nelse:\n    print(\"No son iguales\")",
      "execution_count": 8,
      "outputs": [
        {
          "output_type": "stream",
          "text": "matrix: [[ 0.074  0.019  0.111  0.019]\n [ 0.    -0.185  0.037 -0.037]\n [ 0.037  0.037  0.    -0.185]]\npseudo inversa: [[ 0.074  0.019  0.111  0.019]\n [-0.    -0.185  0.037 -0.037]\n [ 0.037  0.037  0.    -0.185]]\nSon iguales\n",
          "name": "stdout"
        }
      ]
    },
    {
      "metadata": {},
      "cell_type": "markdown",
      "source": "##  3. Realizar el problema 1.3 en el PC. Generar las matrices A11, A12 y A22 de manera aleatoria,           para p = 3 y q = 5. Verificar que se cumple la demonstracion"
    },
    {
      "metadata": {
        "trusted": true
      },
      "cell_type": "code",
      "source": "p = 3\nq = 5\nA11 = np.random.rand(p,p)\nA12 = np.random.rand(p,q)\nzeros = np.zeros((q,p))\nA22 = np.random.rand(q,q)\n\nA = np.block([[A11,A12],[zeros,A22]])\nprint(\"A: \", np.round(A,3))\ntemp = -inv(A11)@A12@inv(A22)\ninv_A = np.block([[inv(A11), temp], [zeros, inv(A22)]],)\nprint(\"inv_A: \", np.round(inv_A,3))\nprint(\"A@inv_A = I\")\nI = A@inv_A\nprint(\"I :\")\nprint(np.round(I,3))",
      "execution_count": 9,
      "outputs": [
        {
          "output_type": "stream",
          "text": "A:  [[0.993 0.086 0.972 0.139 0.456 0.564 0.7   0.228]\n [0.347 0.89  0.65  0.678 0.938 0.501 0.318 0.019]\n [0.874 0.847 0.918 0.33  0.786 0.15  0.165 0.714]\n [0.    0.    0.    0.886 0.892 0.272 0.406 0.574]\n [0.    0.    0.    0.916 0.591 0.928 0.407 0.716]\n [0.    0.    0.    0.762 0.664 0.671 0.522 0.851]\n [0.    0.    0.    0.913 0.432 0.642 0.534 0.542]\n [0.    0.    0.    0.829 0.721 0.971 0.756 0.224]]\ninv_A:  [[-1.446 -4.039  4.391  0.738  0.923 -6.159  0.539  5.058]\n [-1.353 -0.335  1.67  -1.45  -1.552  0.061  1.121  1.808]\n [ 2.626  4.156 -4.633 -0.072  0.43   4.598 -0.214 -6.384]\n [ 0.     0.     0.     0.838  0.76  -2.436  2.248 -0.765]\n [ 0.     0.     0.     1.325  0.532  0.128 -2.621  0.765]\n [ 0.     0.     0.    -0.838  1.808 -0.279 -1.306  0.594]\n [ 0.     0.     0.    -0.945 -3.561  2.292  1.707  0.955]\n [ 0.     0.     0.    -0.544 -0.337  2.072  0.013 -0.966]]\nA@inv_A = I\nI :\n[[ 1.  0. -0. -0.  0.  0.  0. -0.]\n [ 0.  1.  0. -0.  0. -0.  0. -0.]\n [ 0.  0.  1. -0.  0.  0.  0. -0.]\n [ 0.  0.  0.  1.  0.  0.  0.  0.]\n [ 0.  0.  0.  0.  1. -0.  0.  0.]\n [ 0.  0.  0. -0.  0.  1.  0.  0.]\n [ 0.  0.  0. -0. -0.  0.  1. -0.]\n [ 0.  0.  0. -0.  0.  0.  0.  1.]]\n",
          "name": "stdout"
        }
      ]
    },
    {
      "metadata": {},
      "cell_type": "markdown",
      "source": "## 4. Determine la factorizaci´on LU de A cuando C = 1. Una matriz como A con tres diagonales diferentesde cero es llamada matriz tri-diagonal. Los factores L y U son matrices bi-diagonales."
    },
    {
      "metadata": {
        "trusted": true
      },
      "cell_type": "code",
      "source": "C = 1\ndiag_i = 1+2*C\ndiag_e = -C\nrow_1 = [diag_i, diag_e, 0     , 0      ,   0  ]\nrow_2 = [diag_e, diag_i, diag_e, 0      ,   0  ]\nrow_3 = [0     , diag_e, diag_i, diag_e ,   0  ]\nrow_4 = [0     , 0     , diag_e, diag_i, diag_e]\nrow_5 = [0     , 0     , 0     , diag_e, diag_i]\n\nA = np.array([row_1, row_2, row_3,row_4,row_5])\nprint(A)",
      "execution_count": 10,
      "outputs": [
        {
          "output_type": "stream",
          "text": "[[ 3 -1  0  0  0]\n [-1  3 -1  0  0]\n [ 0 -1  3 -1  0]\n [ 0  0 -1  3 -1]\n [ 0  0  0 -1  3]]\n",
          "name": "stdout"
        }
      ]
    },
    {
      "metadata": {
        "trusted": true
      },
      "cell_type": "code",
      "source": "P, L, U = lu(A)",
      "execution_count": 11,
      "outputs": []
    },
    {
      "metadata": {
        "trusted": true
      },
      "cell_type": "code",
      "source": "print(\"L: \", L)\nprint(\"U: \", U)",
      "execution_count": 12,
      "outputs": [
        {
          "output_type": "stream",
          "text": "L:  [[ 1.          0.          0.          0.          0.        ]\n [-0.33333333  1.          0.          0.          0.        ]\n [ 0.         -0.375       1.          0.          0.        ]\n [ 0.          0.         -0.38095238  1.          0.        ]\n [ 0.          0.          0.         -0.38181818  1.        ]]\nU:  [[ 3.         -1.          0.          0.          0.        ]\n [ 0.          2.66666667 -1.          0.          0.        ]\n [ 0.          0.          2.625      -1.          0.        ]\n [ 0.          0.          0.          2.61904762 -1.        ]\n [ 0.          0.          0.          0.          2.61818182]]\n",
          "name": "stdout"
        }
      ]
    },
    {
      "metadata": {
        "trusted": true
      },
      "cell_type": "code",
      "source": "def lu_solve(L, U, b):\n    # Ly = b\n    y = np.linalg.solve(L, b)\n    x = np.linalg.solve(U, y)\n    return x",
      "execution_count": 13,
      "outputs": []
    },
    {
      "metadata": {
        "trusted": true
      },
      "cell_type": "code",
      "source": "C = 1 \nt0=[10, 12, 12, 12, 10]\nt=[]\nt.append(t0)\nprint(\"t[%s]: \"% (0), t[0])\nfor k in range(4):\n    t.append(lu_solve(L,U,t[k]))\n    print(\"t[%s]: \"% (k+1), np.round(t[k+1],3))",
      "execution_count": 14,
      "outputs": [
        {
          "output_type": "stream",
          "text": "t[0]:  [10, 12, 12, 12, 10]\nt[1]:  [ 6.556  9.667 10.444  9.667  6.556]\nt[2]:  [4.741 7.667 8.593 7.667 4.741]\nt[3]:  [3.599 6.056 6.901 6.056 3.599]\nt[4]:  [2.792 4.778 5.486 4.778 2.792]\n",
          "name": "stdout"
        }
      ]
    }
  ],
  "metadata": {
    "kernelspec": {
      "name": "python36",
      "display_name": "Python 3.6",
      "language": "python"
    },
    "language_info": {
      "mimetype": "text/x-python",
      "nbconvert_exporter": "python",
      "name": "python",
      "pygments_lexer": "ipython3",
      "version": "3.6.6",
      "file_extension": ".py",
      "codemirror_mode": {
        "version": 3,
        "name": "ipython"
      }
    }
  },
  "nbformat": 4,
  "nbformat_minor": 2
}