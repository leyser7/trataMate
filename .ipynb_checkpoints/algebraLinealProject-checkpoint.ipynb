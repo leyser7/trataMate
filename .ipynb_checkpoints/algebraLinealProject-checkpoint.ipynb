{
  "cells": [
    {
      "metadata": {
        "trusted": true
      },
      "cell_type": "code",
      "source": "def mean_squared_error(y_true, y_pred):\n    return 0.5 * np.mean((y_true - y_pred)**2)\n\ndef sigmoid(x):\n    return 1. / (1. + np.exp(-x))\n\ndef evaluate(y_pred, y_true, metrics=['loss']):\n    y_pred_argmax = np.argmax(y_pred, axis=-1)\n    y_true_argmax = np.argmax(y_true, axis=-1)\n    ret = []\n    for m in metrics:\n        if m == 'loss':\n            loss = mean_squared_error(y_true, y_pred)\n            ret.append(loss)\n        elif m == 'accuracy':\n            acc = np.sum(y_pred_argmax == y_true_argmax) / len(y_pred)\n            ret.append(acc)\n        else:\n            raise ValueError(\n                'an unknown evaluation indicator \\'%s\\'.' % m\n            )\n    if len(ret) == 1:\n        ret = ret[0]\n    elif len(ret) == 0:\n        ret = None\n    return ret",
      "execution_count": 4,
      "outputs": []
    },
    {
      "metadata": {},
      "cell_type": "markdown",
      "source": "## load mnist Dataset"
    },
    {
      "metadata": {
        "trusted": true
      },
      "cell_type": "code",
      "source": "from keras.datasets import mnist\nfrom keras.utils import to_categorical\nimport numpy as np\nn_classes = 10\n(x_train, t_train), (x_test, t_test) = mnist.load_data()\n# ===============================\n# Preprocess\n# ===============================\nx_train = x_train.astype(np.float32) / 255.\nx_train = x_train.reshape(-1, 28**2)\nx_test = x_test.astype(np.float32) / 255.\nx_test = x_test.reshape(-1, 28**2)\nt_train = to_categorical(t_train, n_classes).astype(np.float32)\nt_test = to_categorical(t_test, n_classes).astype(np.float32)",
      "execution_count": 5,
      "outputs": [
        {
          "output_type": "stream",
          "text": "Using TensorFlow backend.\n",
          "name": "stderr"
        },
        {
          "output_type": "stream",
          "text": "Downloading data from https://s3.amazonaws.com/img-datasets/mnist.npz\n11493376/11490434 [==============================] - 5s 0us/step\n",
          "name": "stdout"
        }
      ]
    },
    {
      "metadata": {},
      "cell_type": "markdown",
      "source": "# Extreme learning machine"
    },
    {
      "metadata": {},
      "cell_type": "markdown",
      "source": "### Generating random weights and biases"
    },
    {
      "metadata": {
        "trusted": true
      },
      "cell_type": "code",
      "source": "def random_weights (n_input_nodes, n_hidden_nodes):\n    w = np.random.uniform(-1.,1.,size=(n_input_nodes, n_hidden_nodes))\n    bias = np.zeros(shape=(n_hidden_nodes))\n    return w, bias",
      "execution_count": 6,
      "outputs": []
    },
    {
      "metadata": {},
      "cell_type": "markdown",
      "source": "\\begin{equation} H = \\sum_{i=1}^{\\bar{N}}  g\\left(\\mathbf{w}_{i} \\cdot \\mathbf{x}_{j}+b_{i}\\right)\\end{equation}"
    },
    {
      "metadata": {
        "trusted": true
      },
      "cell_type": "code",
      "source": "def compute_H(x,w,b):\n    H = sigmoid(x@w + bias)\n    return H",
      "execution_count": 7,
      "outputs": []
    },
    {
      "metadata": {},
      "cell_type": "markdown",
      "source": "\\begin{equation}\\mathbf{H}^{\\dagger}=\\textrm{The Moore–Penrose generalized inverse}\\end{equation} "
    },
    {
      "metadata": {
        "trusted": true
      },
      "cell_type": "code",
      "source": "def compute_pinv(H):\n    pinv_H = np.linalg.pinv(H)  \n    return pinv_H",
      "execution_count": 8,
      "outputs": []
    },
    {
      "metadata": {},
      "cell_type": "markdown",
      "source": "\\begin{equation}\\beta=\\mathbf{H}^{\\dagger} \\mathbf{T}\\end{equation}"
    },
    {
      "metadata": {
        "trusted": true
      },
      "cell_type": "code",
      "source": "def compute_beta(pinv_H, T):\n    beta = pinv_H@T\n    return beta",
      "execution_count": 9,
      "outputs": []
    },
    {
      "metadata": {},
      "cell_type": "markdown",
      "source": "\\begin{equation}\\mathbf{H} \\beta=\\mathbf{T}\\end{equation}"
    },
    {
      "metadata": {
        "trusted": true
      },
      "cell_type": "code",
      "source": "def compute_target(x, w, bias, beta):\n    H = compute_H(x,w,bias)\n    t = H@beta\n    return t",
      "execution_count": 15,
      "outputs": []
    },
    {
      "metadata": {},
      "cell_type": "markdown",
      "source": "## NN backpropagation"
    },
    {
      "metadata": {
        "trusted": true
      },
      "cell_type": "code",
      "source": "from keras.models import Sequential\nfrom keras.layers import Dense\ndef bp_model(n_input_nodes, n_hidden_nodes):\n    # Build the model.\n    model = Sequential([\n      Dense(n_hidden_nodes, input_shape=(n_input_nodes,)),\n      Dense(10, activation='sigmoid'),\n    ])\n    # Compile the model.\n    model.compile(\n      optimizer='adam',\n      loss='mean_squared_error',\n      metrics=['mse', 'accuracy'],\n    )\n    # Train the model.\n    model.fit(\n      x_train,\n      t_train,\n      epochs=5,\n      batch_size=32,\n      verbose = 1\n    )\n    # evluate model\n    score = model.evaluate(x_train, t_train, verbose=0)\n    return score[0], score[2]",
      "execution_count": 12,
      "outputs": []
    },
    {
      "metadata": {
        "trusted": true
      },
      "cell_type": "code",
      "source": "import time \nn_hidden_nodes = [200, 400, 600, 800, 1000]\nn_input_nodes = x_train.shape[1]\nloss_elm = []\ntime_elm = []\nacc_elm  = []\nloss_bp = []\nacc_bp = []\ntime_bp = []\nfor hidden_nodes in n_hidden_nodes:\n    # ELM\n    print(hidden_nodes)\n    w, bias = random_weights(n_input_nodes, hidden_nodes)\n     # fit model\n    H=compute_H(x_train, w, bias)\n    now = time.time()\n    pinv_H = compute_pinv(H)\n    elapsed = time.time()-now\n    time_elm.append(elapsed)\n    beta = compute_beta(pinv_H,t_train)\n    \n    # test model\n    t_pred = compute_target(x_train, w, bias, beta)\n    val_loss, val_acc = evaluate(t_pred, t_train, metrics=['loss', 'accuracy'])\n    loss_elm.append(val_loss)\n    acc_elm.append(val_acc)\n    \n    # BP\n    \n    val_loss, val_acc, val_time = bp_model(n_input_nodes, hidden_nodes)\n    loss_bp.append(val_loss)\n    acc_bp.append(val_acc)\n    time_bp.append(val_time)",
      "execution_count": 27,
      "outputs": [
        {
          "output_type": "stream",
          "text": "Epoch 1/5\n60000/60000 [==============================] - 19s 319us/step - loss: 0.0337 - mse: 0.0337 - accuracy: 0.8301\nEpoch 2/5\n60000/60000 [==============================] - ETA: 0s - loss: 0.0187 - mse: 0.0187 - accuracy: 0.90 - 17s 282us/step - loss: 0.0187 - mse: 0.0187 - accuracy: 0.9049\nEpoch 3/5\n60000/60000 [==============================] - 15s 249us/step - loss: 0.0170 - mse: 0.0170 - accuracy: 0.9127\nEpoch 4/5\n60000/60000 [==============================] - 15s 254us/step - loss: 0.0161 - mse: 0.0161 - accuracy: 0.9163\nEpoch 5/5\n60000/60000 [==============================] - 15s 256us/step - loss: 0.0156 - mse: 0.0156 - accuracy: 0.9198\nEpoch 1/5\n60000/60000 [==============================] - 21s 351us/step - loss: 0.0272 - mse: 0.0272 - accuracy: 0.8616\nEpoch 2/5\n60000/60000 [==============================] - 20s 329us/step - loss: 0.0177 - mse: 0.0177 - accuracy: 0.9089\nEpoch 3/5\n60000/60000 [==============================] - 19s 319us/step - loss: 0.0164 - mse: 0.0164 - accuracy: 0.9154\nEpoch 4/5\n60000/60000 [==============================] - 16s 269us/step - loss: 0.0158 - mse: 0.0158 - accuracy: 0.9180\nEpoch 5/5\n60000/60000 [==============================] - 16s 265us/step - loss: 0.0154 - mse: 0.0154 - accuracy: 0.9203\n",
          "name": "stdout"
        }
      ]
    },
    {
      "metadata": {
        "trusted": true
      },
      "cell_type": "code",
      "source": "import matplotlib.pyplot as plt\nfig, (ax1, ax2) = plt.subplots(1, 2, figsize=(12, 6))\nax1.plot(n_hidden_nodes, loss_elm, n_hidden_nodes, loss_bp)\nax1.set(xlabel='n hidden node', ylabel='mean squared error')\nax1.set_title(\"Loss vs hidden node\")\nax2.plot(n_hidden_nodes, acc_elm, n_hidden_nodes, acc_bp)\nax2.set(xlabel='n hidden node', ylabel='accuracy')\nax2.set_title(\"Accuraccy vs hidden node\")\nplt.show()",
      "execution_count": 31,
      "outputs": [
        {
          "output_type": "display_data",
          "data": {
            "image/png": "[encoded data removed]",
            "text/plain": "<Figure size 432x288 with 1 Axes>"
          },
          "metadata": {
            "needs_background": "light"
          }
        }
      ]
    },
    {
      "metadata": {
        "trusted": true
      },
      "cell_type": "code",
      "source": "plt.plot(n_hidden_nodes, time_elm, n_hidden_nodes, time_bp)\nplt.ylabel('time(s)')\nplt.xlabel('n hidden node')\nplt.title('time (s) vs hidden node')\nplt.show()",
      "execution_count": null,
      "outputs": []
    }
  ],
  "metadata": {
    "kernelspec": {
      "name": "python36",
      "display_name": "Python 3.6",
      "language": "python"
    }
  },
  "nbformat": 4,
  "nbformat_minor": 2
}